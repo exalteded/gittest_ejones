{
  "nbformat": 4,
  "nbformat_minor": 0,
  "metadata": {
    "colab": {
      "name": "xp system .ipynb",
      "provenance": [],
      "include_colab_link": true
    },
    "kernelspec": {
      "name": "python3",
      "display_name": "Python 3"
    }
  },
  "cells": [
    {
      "cell_type": "markdown",
      "metadata": {
        "id": "view-in-github",
        "colab_type": "text"
      },
      "source": [
        "<a href=\"https://colab.research.google.com/github/exalteded/gittest_ejones/blob/master/Elliott_Extra_Credit/Exp_system_.ipynb\" target=\"_parent\"><img src=\"https://colab.research.google.com/assets/colab-badge.svg\" alt=\"Open In Colab\"/></a>"
      ]
    },
    {
      "cell_type": "code",
      "metadata": {
        "id": "1bI3fLPYES_V",
        "colab_type": "code",
        "colab": {}
      },
      "source": [
        "xp = 0\n",
        "import math"
      ],
      "execution_count": 0,
      "outputs": []
    },
    {
      "cell_type": "code",
      "metadata": {
        "id": "YISdCbWnEXFy",
        "colab_type": "code",
        "colab": {}
      },
      "source": [
        "def newmonth(int,month):\n",
        "  int = int+6\n",
        "  print(\"your new xp total after\", month, \"is\",int)\n",
        "  "
      ],
      "execution_count": 0,
      "outputs": []
    },
    {
      "cell_type": "code",
      "metadata": {
        "id": "2eOYMqcpEkZ5",
        "colab_type": "code",
        "outputId": "ac1b534e-df05-46b6-a52e-edee6fb311bd",
        "colab": {
          "base_uri": "https://localhost:8080/",
          "height": 34
        }
      },
      "source": [
        "newmonth(xp,\"game 16 november 2019\")"
      ],
      "execution_count": 0,
      "outputs": [
        {
          "output_type": "stream",
          "text": [
            "your new xp total after game 16 november 2019 is 6\n"
          ],
          "name": "stdout"
        }
      ]
    },
    {
      "cell_type": "code",
      "metadata": {
        "id": "c7cFVLZnEoD-",
        "colab_type": "code",
        "colab": {}
      },
      "source": [
        "def discipline(int,inclan,lab,expertteacher,livefire,CR,mentor):\n",
        "  if(CR == 0):\n",
        "    CR = 1\n",
        "  if(inclan == 0):\n",
        "    multiplier = 6\n",
        "    print(\"this costs\", multiplier*CR)\n",
        "  if(inclan == 1):\n",
        "    multiplier = 8\n",
        "    print(\"this costs\", multiplier*CR)\n",
        "  if(mentor == 0):\n",
        "    if(lab == 1):\n",
        "      multiplier = multiplier-1 \n",
        "    if(livefire==1):\n",
        "      multiplier = multiplier-1\n",
        "  else:\n",
        "    multiplier = multiplier - mentor\n",
        "  if(expertteacher==1):\n",
        "    multiplier = multiplier-1\n",
        "  if(int < multiplier * CR):\n",
        "    print(\"not enough xp\")\n",
        "    return int\n",
        "  if(int >= multiplier *CR):\n",
        "    print(\"this xp cost was reduced by\", int - multiplier*CR)\n",
        "    int = int - multiplier*CR   \n",
        "    print(\"new xp total is\")\n",
        "    return int"
      ],
      "execution_count": 0,
      "outputs": []
    },
    {
      "cell_type": "code",
      "metadata": {
        "id": "WKETI9boGAlE",
        "colab_type": "code",
        "outputId": "67243efd-44d1-4c81-bfbb-7686d2aed59b",
        "colab": {
          "base_uri": "https://localhost:8080/",
          "height": 85
        }
      },
      "source": [
        "discipline(18,0,1,0,1,3,0)"
      ],
      "execution_count": 0,
      "outputs": [
        {
          "output_type": "stream",
          "text": [
            "this costs 18\n",
            "this xp cost was reduced by 6\n",
            "new xp total is\n"
          ],
          "name": "stdout"
        },
        {
          "output_type": "execute_result",
          "data": {
            "text/plain": [
              "6"
            ]
          },
          "metadata": {
            "tags": []
          },
          "execution_count": 3
        }
      ]
    },
    {
      "cell_type": "code",
      "metadata": {
        "id": "kFN2hXrVGeop",
        "colab_type": "code",
        "colab": {}
      },
      "source": [
        "def ability(int,lab,livefire,expertteacher,mentor,CR):\n",
        "  multiplier = 3\n",
        "  if(CR == 0):\n",
        "    CR = 1\n",
        "  limiter = (multiplier*CR)/2\n",
        "  print(\"This costs\", limiter*2)\n",
        "  if(mentor == 0):\n",
        "    if(lab == 1):\n",
        "      multiplier = multiplier-1 \n",
        "    if(livefire==1):\n",
        "      multiplier = multiplier-1\n",
        "  else:\n",
        "    multiplier = multiplier - mentor\n",
        "  if(expertteacher==1):\n",
        "    multiplier = multiplier-1\n",
        "  if(multiplier*CR < limiter):\n",
        "    if(int <limiter):\n",
        "      print(\"not enough xp limiter route\")\n",
        "      return int\n",
        "    if(int >= limiter):\n",
        "      print(\"this xp cost was reduced by half from\", limiter*2,\"to\", math.ceil(limiter))\n",
        "      int = int - math.ceil(limiter) \n",
        "      print(\"new xp total is\")\n",
        "      return int\n",
        "  else:\n",
        "    if(int < multiplier * CR):\n",
        "      print(\"not enough xp multiplier route\")\n",
        "      return int\n",
        "    if(int >= multiplier *CR):\n",
        "      print(\"this xp cost was reduced by\", limiter*2 - multiplier*CR,\"from\",limiter*2,\"to\",limiter*2 -(limiter*2-multiplier*CR))\n",
        "      int = int - multiplier*CR   \n",
        "      print(\"new xp total is\")\n",
        "      return int"
      ],
      "execution_count": 0,
      "outputs": []
    },
    {
      "cell_type": "code",
      "metadata": {
        "id": "DUNNAVKEHliF",
        "colab_type": "code",
        "outputId": "93f1f25a-cfb9-4c61-d51e-b1c6ffd3de7d",
        "colab": {
          "base_uri": "https://localhost:8080/",
          "height": 84
        }
      },
      "source": [
        "ability(9,1,1,1,0,0)"
      ],
      "execution_count": 0,
      "outputs": [
        {
          "output_type": "stream",
          "text": [
            "This costs 3.0\n",
            "this xp cost was reduced by half from 3.0 to 2\n",
            "new xp total is\n"
          ],
          "name": "stdout"
        },
        {
          "output_type": "execute_result",
          "data": {
            "text/plain": [
              "7"
            ]
          },
          "metadata": {
            "tags": []
          },
          "execution_count": 112
        }
      ]
    },
    {
      "cell_type": "code",
      "metadata": {
        "id": "VWr5ZX2nMH0b",
        "colab_type": "code",
        "outputId": "a6818d5f-62b5-4401-f2de-dea6f94a0286",
        "colab": {
          "base_uri": "https://localhost:8080/",
          "height": 84
        }
      },
      "source": [
        "ability(9,1,0,0,0,4)"
      ],
      "execution_count": 0,
      "outputs": [
        {
          "output_type": "stream",
          "text": [
            "This costs 12.0\n",
            "this xp cost was reduced by 4.0 from 12.0 to 8.0\n",
            "new xp total is\n"
          ],
          "name": "stdout"
        },
        {
          "output_type": "execute_result",
          "data": {
            "text/plain": [
              "1"
            ]
          },
          "metadata": {
            "tags": []
          },
          "execution_count": 113
        }
      ]
    },
    {
      "cell_type": "code",
      "metadata": {
        "id": "ML2YA3O4NFUL",
        "colab_type": "code",
        "colab": {}
      },
      "source": [
        "def merit(int,lab,livefire,expertteacher,mentor,CR):\n",
        "  multiplier = 3\n",
        "  if(CR == 0):\n",
        "    CR = 1\n",
        "  limiter = (multiplier*CR)/2\n",
        "  print(\"This costs\", limiter*2)\n",
        "  if(mentor == 0):\n",
        "    if(lab == 1):\n",
        "      multiplier = multiplier-1 \n",
        "    if(livefire==1):\n",
        "      multiplier = multiplier-1\n",
        "  else:\n",
        "    multiplier = multiplier - mentor\n",
        "  if(expertteacher==1):\n",
        "    multiplier = multiplier-1\n",
        "  if(multiplier*CR < limiter):\n",
        "    if(int <limiter):\n",
        "      print(\"not enough xp limiter route\")\n",
        "      return int\n",
        "    if(int >= limiter):\n",
        "      print(\"this xp cost was reduced by half from\", limiter*2,\"to\", math.ceil(limiter))\n",
        "      int = int - math.ceil(limiter) \n",
        "      print(\"new xp total is\")\n",
        "      return int\n",
        "  else:\n",
        "    if(int < multiplier * CR):\n",
        "      print(\"not enough xp multiplier route\")\n",
        "      return int\n",
        "    if(int >= multiplier *CR):\n",
        "      print(\"this xp cost was reduced by\", limiter*2 - multiplier*CR,\"from\",limiter*2,\"to\",limiter*2 -(limiter*2-multiplier*CR))\n",
        "      int = int - multiplier*CR   \n",
        "      print(\"new xp total is\")\n",
        "      return int"
      ],
      "execution_count": 0,
      "outputs": []
    },
    {
      "cell_type": "code",
      "metadata": {
        "id": "B3IrJpGeSjEP",
        "colab_type": "code",
        "colab": {}
      },
      "source": [
        "def willpower(int,lab,livefire,expertteacher,mentor,CR):\n",
        "  multiplier = 2\n",
        "  if(CR == 0):\n",
        "    CR = 1\n",
        "  limiter = (multiplier*CR)/2\n",
        "  print(\"This costs\", limiter*2)\n",
        "  if(mentor == 0):\n",
        "    if(lab == 1):\n",
        "      multiplier = multiplier-1 \n",
        "    if(livefire==1):\n",
        "      multiplier = multiplier-1\n",
        "  else:\n",
        "    multiplier = multiplier - mentor\n",
        "  if(expertteacher==1):\n",
        "    multiplier = multiplier-1\n",
        "  if(multiplier*CR < limiter):\n",
        "    if(int <limiter):\n",
        "      print(\"not enough xp limiter route\")\n",
        "      return int\n",
        "    if(int >= limiter):\n",
        "      print(\"this xp cost was reduced by half from\", limiter*2,\"to\", math.ceil(limiter))\n",
        "      int = int - math.ceil(limiter) \n",
        "      print(\"new xp total is\")\n",
        "      return int\n",
        "  else:\n",
        "    if(int < multiplier * CR):\n",
        "      print(\"not enough xp multiplier route\")\n",
        "      return int\n",
        "    if(int >= multiplier *CR):\n",
        "      print(\"this xp cost was reduced by\", limiter*2 - multiplier*CR,\"from\",limiter*2,\"to\",limiter*2 -(limiter*2-multiplier*CR))\n",
        "      int = int - multiplier*CR   \n",
        "      print(\"new xp total is\")\n",
        "      return int"
      ],
      "execution_count": 0,
      "outputs": []
    },
    {
      "cell_type": "code",
      "metadata": {
        "id": "S2ugyYIpTIAr",
        "colab_type": "code",
        "colab": {}
      },
      "source": [
        "def virtue(int,lab,livefire,expertteacher,mentor,CR):\n",
        "  multiplier = 5\n",
        "  if(CR == 0):\n",
        "    CR = 1\n",
        "  limiter = (multiplier*CR)/2\n",
        "  print(\"This costs\", limiter*2)\n",
        "  if(mentor == 0):\n",
        "    if(lab == 1):\n",
        "      multiplier = multiplier-1 \n",
        "    if(livefire==1):\n",
        "      multiplier = multiplier-1\n",
        "  else:\n",
        "    multiplier = multiplier - mentor\n",
        "  if(expertteacher==1):\n",
        "    multiplier = multiplier-1\n",
        "  if(multiplier*CR < limiter):\n",
        "    if(int <limiter):\n",
        "      print(\"not enough xp limiter route\")\n",
        "      return int\n",
        "    if(int >= limiter):\n",
        "      print(\"this xp cost was reduced by half from\", limiter*2,\"to\", math.ceil(limiter))\n",
        "      int = int - math.ceil(limiter) \n",
        "      print(\"new xp total is\")\n",
        "      return int\n",
        "  else:\n",
        "    if(int < multiplier * CR):\n",
        "      print(\"not enough xp multiplier route\")\n",
        "      return int\n",
        "    if(int >= multiplier *CR):\n",
        "      print(\"this xp cost was reduced by\", limiter*2 - multiplier*CR,\"from\",limiter*2,\"to\",limiter*2 -(limiter*2-multiplier*CR))\n",
        "      int = int - multiplier*CR   \n",
        "      print(\"new xp total is\")\n",
        "      return int"
      ],
      "execution_count": 0,
      "outputs": []
    },
    {
      "cell_type": "code",
      "metadata": {
        "id": "3aaHwEHNTQSy",
        "colab_type": "code",
        "outputId": "ec893f57-520f-4f26-a5a2-b87141fa8947",
        "colab": {
          "base_uri": "https://localhost:8080/",
          "height": 84
        }
      },
      "source": [
        "virtue(20,1,1,0,0,4)"
      ],
      "execution_count": 0,
      "outputs": [
        {
          "output_type": "stream",
          "text": [
            "This costs 20.0\n",
            "this xp cost was reduced by 8.0 from 20.0 to 12.0\n",
            "new xp total is\n"
          ],
          "name": "stdout"
        },
        {
          "output_type": "execute_result",
          "data": {
            "text/plain": [
              "8"
            ]
          },
          "metadata": {
            "tags": []
          },
          "execution_count": 118
        }
      ]
    },
    {
      "cell_type": "code",
      "metadata": {
        "id": "93j3t7hbTVFX",
        "colab_type": "code",
        "outputId": "53b50d99-8478-47dc-abb1-924477aaccf0",
        "colab": {
          "base_uri": "https://localhost:8080/",
          "height": 34
        }
      },
      "source": [
        "rffit?"
      ],
      "execution_count": 0,
      "outputs": [
        {
          "output_type": "stream",
          "text": [
            "Object `rffit` not found.\n"
          ],
          "name": "stdout"
        }
      ]
    },
    {
      "cell_type": "code",
      "metadata": {
        "id": "AN1f42rVIW7G",
        "colab_type": "code",
        "colab": {}
      },
      "source": [
        ""
      ],
      "execution_count": 0,
      "outputs": []
    }
  ]
}